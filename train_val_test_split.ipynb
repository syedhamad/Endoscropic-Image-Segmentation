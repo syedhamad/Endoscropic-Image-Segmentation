{
 "cells": [
  {
   "cell_type": "code",
   "execution_count": 16,
   "id": "96d2b390",
   "metadata": {},
   "outputs": [],
   "source": [
    "import numpy as np\n",
    "import glob\n",
    "import os\n",
    "import random\n",
    "import shutil"
   ]
  },
  {
   "cell_type": "code",
   "execution_count": 17,
   "id": "3f1c0a68",
   "metadata": {},
   "outputs": [],
   "source": [
    "original_images = r\"C:\\Users\\Akhlaq\\PythonProject\\resized_images\"\n",
    "original_masks = r\"C:\\Users\\Akhlaq\\PythonProject\\resized_masks\""
   ]
  },
  {
   "cell_type": "code",
   "execution_count": 18,
   "id": "b232af62",
   "metadata": {},
   "outputs": [],
   "source": [
    "train_images = r\"C:\\Users\\Akhlaq\\PythonProject\\Dataset\\images\\train\"\n",
    "test_images = r\"C:\\Users\\Akhlaq\\PythonProject\\Dataset\\images\\test\"\n",
    "val_images = r\"C:\\Users\\Akhlaq\\PythonProject\\Dataset\\images\\val\"\n",
    "\n",
    "train_masks = r\"C:\\Users\\Akhlaq\\PythonProject\\Dataset\\masks\\train\"\n",
    "test_masks = r\"C:\\Users\\Akhlaq\\PythonProject\\Dataset\\masks\\test\"\n",
    "val_masks = r\"C:\\Users\\Akhlaq\\PythonProject\\Dataset\\masks\\val\""
   ]
  },
  {
   "cell_type": "code",
   "execution_count": 19,
   "id": "56f505a3",
   "metadata": {},
   "outputs": [],
   "source": [
    "np.random.seed(42)\n",
    "images = np.array(os.listdir(original_images))\n",
    "p = np.random.permutation(len(images))\n",
    "images = images[p]"
   ]
  },
  {
   "cell_type": "code",
   "execution_count": 20,
   "id": "d7489156",
   "metadata": {},
   "outputs": [
    {
     "name": "stdout",
     "output_type": "stream",
     "text": [
      "(329,) (70,) (72,)\n"
     ]
    }
   ],
   "source": [
    "p = (len(images)*70) // 100\n",
    "# 20%\n",
    "t = (len(images)*15) // 100\n",
    "\n",
    "train = images[:p]\n",
    "val = images[p:p+t]\n",
    "test = images[p+t:]\n",
    "print(train.shape, val.shape, test.shape)"
   ]
  },
  {
   "cell_type": "code",
   "execution_count": 21,
   "id": "fe298207",
   "metadata": {},
   "outputs": [],
   "source": [
    "for image in train:\n",
    "    shutil.copy(os.path.join(original_images, image), train_images)"
   ]
  },
  {
   "cell_type": "code",
   "execution_count": 22,
   "id": "81cbc65d",
   "metadata": {},
   "outputs": [],
   "source": [
    "for image in val:\n",
    "    shutil.copy(os.path.join(original_images, image), val_images)"
   ]
  },
  {
   "cell_type": "code",
   "execution_count": 23,
   "id": "64f7b9c3",
   "metadata": {},
   "outputs": [],
   "source": [
    "for image in test:\n",
    "    shutil.copy(os.path.join(original_images, image), test_images)"
   ]
  },
  {
   "cell_type": "code",
   "execution_count": 24,
   "id": "1b671751",
   "metadata": {},
   "outputs": [],
   "source": [
    "for mask_path in train:  \n",
    "    mask = os.path.join(original_masks, mask_path.split(\".\")[0] + '.tif')\n",
    "    shutil.copy(mask, train_masks)         "
   ]
  },
  {
   "cell_type": "code",
   "execution_count": 25,
   "id": "480a0fc6",
   "metadata": {},
   "outputs": [],
   "source": [
    "for mask_path in val:  \n",
    "    mask = os.path.join(original_masks, mask_path.split(\".\")[0] + '.tif')\n",
    "    shutil.copy(mask, val_masks)         "
   ]
  },
  {
   "cell_type": "code",
   "execution_count": 26,
   "id": "d82ebf07",
   "metadata": {},
   "outputs": [],
   "source": [
    "for mask_path in test:\n",
    "    mask = os.path.join(original_masks, mask_path.split(\".\")[0] + '.tif')\n",
    "    shutil.copy(mask, test_masks)"
   ]
  },
  {
   "cell_type": "code",
   "execution_count": 27,
   "id": "797913fd",
   "metadata": {},
   "outputs": [],
   "source": [
    "im = os.listdir(train_images)\n",
    "m = os.listdir(train_masks)"
   ]
  },
  {
   "cell_type": "code",
   "execution_count": 28,
   "id": "c92db25b",
   "metadata": {},
   "outputs": [],
   "source": [
    "l = len(im)\n",
    "for i in range(l):\n",
    "    if im[i].split(\".\")[0] == m[i].split(\".\")[0]:\n",
    "        pass\n",
    "    else:\n",
    "        print(\"False\")"
   ]
  },
  {
   "cell_type": "code",
   "execution_count": 29,
   "id": "e3b0b5b6",
   "metadata": {},
   "outputs": [],
   "source": [
    "im = os.listdir(val_images)\n",
    "m = os.listdir(val_masks)\n",
    "l = len(im)\n",
    "for i in range(l):\n",
    "    if im[i].split('.')[0] == m[i].split('.')[0]:\n",
    "        pass\n",
    "    else:\n",
    "        print(\"False\")"
   ]
  },
  {
   "cell_type": "code",
   "execution_count": 30,
   "id": "1da7dd83",
   "metadata": {},
   "outputs": [],
   "source": [
    "im = os.listdir(test_images)\n",
    "m = os.listdir(test_masks)\n",
    "l = len(im)\n",
    "for i in range(l):\n",
    "    if im[i].split('.')[0] == m[i].split('.')[0]:\n",
    "        pass\n",
    "    else:\n",
    "        print(\"False\")"
   ]
  }
 ],
 "metadata": {
  "kernelspec": {
   "display_name": "Python 3",
   "language": "python",
   "name": "python3"
  },
  "language_info": {
   "codemirror_mode": {
    "name": "ipython",
    "version": 3
   },
   "file_extension": ".py",
   "mimetype": "text/x-python",
   "name": "python",
   "nbconvert_exporter": "python",
   "pygments_lexer": "ipython3",
   "version": "3.8.8"
  }
 },
 "nbformat": 4,
 "nbformat_minor": 5
}

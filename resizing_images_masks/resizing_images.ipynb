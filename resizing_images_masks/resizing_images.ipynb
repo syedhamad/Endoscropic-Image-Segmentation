{
 "cells": [
  {
   "cell_type": "code",
   "execution_count": 1,
   "id": "2e686c40",
   "metadata": {},
   "outputs": [],
   "source": [
    "import os\n",
    "import glob\n",
    "import numpy as np\n",
    "from PIL import Image"
   ]
  },
  {
   "cell_type": "code",
   "execution_count": 2,
   "id": "6b870c9d",
   "metadata": {},
   "outputs": [],
   "source": [
    "images = r\"C:\\Users\\Akhlaq\\PythonProject\\o_images\"\n",
    "resized_images = r\"C:\\Users\\Akhlaq\\PythonProject\\resized_images\""
   ]
  },
  {
   "cell_type": "code",
   "execution_count": 3,
   "id": "461a80b2",
   "metadata": {},
   "outputs": [],
   "source": [
    "newsize = (256, 256)"
   ]
  },
  {
   "cell_type": "code",
   "execution_count": 4,
   "id": "de221d40",
   "metadata": {},
   "outputs": [],
   "source": [
    "for directory_path in glob.glob(images):\n",
    "    for img_path in glob.glob(os.path.join(directory_path, \"*.jpg\")):\n",
    "        \n",
    "        im = Image.open(img_path)\n",
    "        im = im.resize(newsize, Image.ANTIALIAS)        \n",
    "        \n",
    "        name = os.path.join(resized_images, os.path.basename(img_path))\n",
    "        im.save(name)"
   ]
  }
 ],
 "metadata": {
  "kernelspec": {
   "display_name": "Python 3",
   "language": "python",
   "name": "python3"
  },
  "language_info": {
   "codemirror_mode": {
    "name": "ipython",
    "version": 3
   },
   "file_extension": ".py",
   "mimetype": "text/x-python",
   "name": "python",
   "nbconvert_exporter": "python",
   "pygments_lexer": "ipython3",
   "version": "3.8.8"
  }
 },
 "nbformat": 4,
 "nbformat_minor": 5
}
